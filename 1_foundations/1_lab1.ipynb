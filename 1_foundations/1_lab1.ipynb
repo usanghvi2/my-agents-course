{
 "cells": [
  {
   "cell_type": "markdown",
   "metadata": {},
   "source": [
    "# Welcome to the start of your adventure in Agentic AI"
   ]
  },
  {
   "cell_type": "markdown",
   "metadata": {},
   "source": [
    "<table style=\"margin: 0; text-align: left; width:100%\">\n",
    "    <tr>\n",
    "        <td style=\"width: 150px; height: 150px; vertical-align: middle;\">\n",
    "            <img src=\"../assets/stop.png\" width=\"150\" height=\"150\" style=\"display: block;\" />\n",
    "        </td>\n",
    "        <td>\n",
    "            <h2 style=\"color:#ff7800;\">Are you ready for action??</h2>\n",
    "            <span style=\"color:#ff7800;\">Have you completed all the setup steps in the <a href=\"../setup/\">setup</a> folder?<br/>\n",
    "            Have you read the <a href=\"../README.md\">README</a>? Many common questions are answered here!<br/>\n",
    "            Have you checked out the guides in the <a href=\"../guides/01_intro.ipynb\">guides</a> folder?<br/>\n",
    "            Well in that case, you're ready!!\n",
    "            </span>\n",
    "        </td>\n",
    "    </tr>\n",
    "</table>"
   ]
  },
  {
   "cell_type": "markdown",
   "metadata": {},
   "source": [
    "<table style=\"margin: 0; text-align: left; width:100%\">\n",
    "    <tr>\n",
    "        <td style=\"width: 150px; height: 150px; vertical-align: middle;\">\n",
    "            <img src=\"../assets/tools.png\" width=\"150\" height=\"150\" style=\"display: block;\" />\n",
    "        </td>\n",
    "        <td>\n",
    "            <h2 style=\"color:#00bfff;\">This code is a live resource - keep an eye out for my updates</h2>\n",
    "            <span style=\"color:#00bfff;\">I push updates regularly. As people ask questions or have problems, I add more examples and improve explanations. As a result, the code below might not be identical to the videos, as I've added more steps and better comments. Consider this like an interactive book that accompanies the lectures.<br/><br/>\n",
    "            I try to send emails regularly with important updates related to the course. You can find this in the 'Announcements' section of Udemy in the left sidebar. You can also choose to receive my emails via your Notification Settings in Udemy. I'm respectful of your inbox and always try to add value with my emails!\n",
    "            </span>\n",
    "        </td>\n",
    "    </tr>\n",
    "</table>"
   ]
  },
  {
   "cell_type": "markdown",
   "metadata": {},
   "source": [
    "### And please do remember to contact me if I can help\n",
    "\n",
    "And I love to connect: https://www.linkedin.com/in/eddonner/\n",
    "\n",
    "\n",
    "### New to Notebooks like this one? Head over to the guides folder!\n",
    "\n",
    "Just to check you've already added the Python and Jupyter extensions to Cursor, if not already installed:\n",
    "- Open extensions (View >> extensions)\n",
    "- Search for python, and when the results show, click on the ms-python one, and Install it if not already installed\n",
    "- Search for jupyter, and when the results show, click on the Microsoft one, and Install it if not already installed  \n",
    "Then View >> Explorer to bring back the File Explorer.\n",
    "\n",
    "And then:\n",
    "1. Click where it says \"Select Kernel\" near the top right, and select the option called `.venv (Python 3.12.9)` or similar, which should be the first choice or the most prominent choice. You may need to choose \"Python Environments\" first.\n",
    "2. Click in each \"cell\" below, starting with the cell immediately below this text, and press Shift+Enter to run\n",
    "3. Enjoy!\n",
    "\n",
    "After you click \"Select Kernel\", if there is no option like `.venv (Python 3.12.9)` then please do the following:  \n",
    "1. On Mac: From the Cursor menu, choose Settings >> VS Code Settings (NOTE: be sure to select `VSCode Settings` not `Cursor Settings`);  \n",
    "On Windows PC: From the File menu, choose Preferences >> VS Code Settings(NOTE: be sure to select `VSCode Settings` not `Cursor Settings`)  \n",
    "2. In the Settings search bar, type \"venv\"  \n",
    "3. In the field \"Path to folder with a list of Virtual Environments\" put the path to the project root, like C:\\Users\\username\\projects\\agents (on a Windows PC) or /Users/username/projects/agents (on Mac or Linux).  \n",
    "And then try again.\n",
    "\n",
    "Having problems with missing Python versions in that list? Have you ever used Anaconda before? It might be interferring. Quit Cursor, bring up a new command line, and make sure that your Anaconda environment is deactivated:    \n",
    "`conda deactivate`  \n",
    "And if you still have any problems with conda and python versions, it's possible that you will need to run this too:  \n",
    "`conda config --set auto_activate_base false`  \n",
    "and then from within the Agents directory, you should be able to run `uv python list` and see the Python 3.12 version."
   ]
  },
  {
   "cell_type": "code",
   "execution_count": 65,
   "metadata": {},
   "outputs": [],
   "source": [
    "# First let's do an import. If you get an Import Error, double check that your Kernel is correct..\n",
    "\n",
    "from dotenv import load_dotenv\n"
   ]
  },
  {
   "cell_type": "code",
   "execution_count": 66,
   "metadata": {},
   "outputs": [
    {
     "data": {
      "text/plain": [
       "True"
      ]
     },
     "execution_count": 66,
     "metadata": {},
     "output_type": "execute_result"
    }
   ],
   "source": [
    "# Next it's time to load the API keys into environment variables\n",
    "# If this returns false, see the next cell!\n",
    "\n",
    "load_dotenv(override=True)"
   ]
  },
  {
   "cell_type": "markdown",
   "metadata": {},
   "source": [
    "### Wait, did that just output `False`??\n",
    "\n",
    "If so, the most common reason is that you didn't save your `.env` file after adding the key! Be sure to have saved.\n",
    "\n",
    "Also, make sure the `.env` file is named precisely `.env` and is in the project root directory (`agents`)\n",
    "\n",
    "By the way, your `.env` file should have a stop symbol next to it in Cursor on the left, and that's actually a good thing: that's Cursor saying to you, \"hey, I realize this is a file filled with secret information, and I'm not going to send it to an external AI to suggest changes, because your keys should not be shown to anyone else.\""
   ]
  },
  {
   "cell_type": "markdown",
   "metadata": {},
   "source": [
    "<table style=\"margin: 0; text-align: left; width:100%\">\n",
    "    <tr>\n",
    "        <td style=\"width: 150px; height: 150px; vertical-align: middle;\">\n",
    "            <img src=\"../assets/stop.png\" width=\"150\" height=\"150\" style=\"display: block;\" />\n",
    "        </td>\n",
    "        <td>\n",
    "            <h2 style=\"color:#ff7800;\">Final reminders</h2>\n",
    "            <span style=\"color:#ff7800;\">1. If you're not confident about Environment Variables or Web Endpoints / APIs, please read Topics 3 and 5 in this <a href=\"../guides/04_technical_foundations.ipynb\">technical foundations guide</a>.<br/>\n",
    "            2. If you want to use AIs other than OpenAI, like Gemini, DeepSeek or Ollama (free), please see the first section in this <a href=\"../guides/09_ai_apis_and_ollama.ipynb\">AI APIs guide</a>.<br/>\n",
    "            3. If you ever get a Name Error in Python, you can always fix it immediately; see the last section of this <a href=\"../guides/06_python_foundations.ipynb\">Python Foundations guide</a> and follow both tutorials and exercises.<br/>\n",
    "            </span>\n",
    "        </td>\n",
    "    </tr>\n",
    "</table>"
   ]
  },
  {
   "cell_type": "code",
   "execution_count": 67,
   "metadata": {},
   "outputs": [
    {
     "name": "stdout",
     "output_type": "stream",
     "text": [
      "OpenAI API Key exists and begins sk-proj-\n"
     ]
    }
   ],
   "source": [
    "# Check the key - if you're not using OpenAI, check whichever key you're using! Ollama doesn't need a key.\n",
    "\n",
    "import os\n",
    "openai_api_key = os.getenv('OPENAI_API_KEY')\n",
    "\n",
    "if openai_api_key:\n",
    "    print(f\"OpenAI API Key exists and begins {openai_api_key[:8]}\")\n",
    "else:\n",
    "    print(\"OpenAI API Key not set - please head to the troubleshooting guide in the setup folder\")\n",
    "    \n"
   ]
  },
  {
   "cell_type": "code",
   "execution_count": 68,
   "metadata": {},
   "outputs": [],
   "source": [
    "# And now - the all important import statement\n",
    "# If you get an import error - head over to troubleshooting in the Setup folder\n",
    "# Even for other LLM providers like Gemini, you still use this OpenAI import - see Guide 9 for why\n",
    "\n",
    "from openai import OpenAI"
   ]
  },
  {
   "cell_type": "code",
   "execution_count": 69,
   "metadata": {},
   "outputs": [],
   "source": [
    "# And now we'll create an instance of the OpenAI class\n",
    "# If you're not sure what it means to create an instance of a class - head over to the guides folder (guide 6)!\n",
    "# If you get a NameError - head over to the guides folder (guide 6)to learn about NameErrors - always instantly fixable\n",
    "# If you're not using OpenAI, you just need to slightly modify this - precise instructions are in the AI APIs guide (guide 9)\n",
    "\n",
    "openai = OpenAI()"
   ]
  },
  {
   "cell_type": "code",
   "execution_count": 70,
   "metadata": {},
   "outputs": [],
   "source": [
    "# Create a list of messages in the familiar OpenAI format\n",
    "\n",
    "messages = [{\"role\": \"user\", \"content\": \"What is 2+2?\"}]"
   ]
  },
  {
   "cell_type": "code",
   "execution_count": 71,
   "metadata": {},
   "outputs": [
    {
     "name": "stdout",
     "output_type": "stream",
     "text": [
      "2 + 2 equals 4.\n"
     ]
    }
   ],
   "source": [
    "# And now call it! Any problems, head to the troubleshooting guide\n",
    "# This uses GPT 4.1 nano, the incredibly cheap model\n",
    "# The APIs guide (guide 9) has exact instructions for using even cheaper or free alternatives to OpenAI\n",
    "# If you get a NameError, head to the guides folder (guide 6) to learn about NameErrors - always instantly fixable\n",
    "\n",
    "response = openai.chat.completions.create(\n",
    "    model=\"gpt-4.1-nano\",\n",
    "    messages=messages\n",
    ")\n",
    "\n",
    "print(response.choices[0].message.content)\n"
   ]
  },
  {
   "cell_type": "code",
   "execution_count": 72,
   "metadata": {},
   "outputs": [],
   "source": [
    "# And now - let's ask for a question:\n",
    "\n",
    "question = \"Please propose a hard, challenging question to assess someone's IQ. Respond only with the question.\"\n",
    "messages = [{\"role\": \"user\", \"content\": question}]\n"
   ]
  },
  {
   "cell_type": "code",
   "execution_count": 73,
   "metadata": {},
   "outputs": [
    {
     "name": "stdout",
     "output_type": "stream",
     "text": [
      "If you rearrange the letters \"CIFAIPC\" you would have the name of a(n):\n"
     ]
    }
   ],
   "source": [
    "# ask it - this uses GPT 4.1 mini, still cheap but more powerful than nano\n",
    "\n",
    "response = openai.chat.completions.create(\n",
    "    model=\"gpt-4.1-mini\",\n",
    "    messages=messages\n",
    ")\n",
    "\n",
    "question = response.choices[0].message.content\n",
    "\n",
    "print(question)\n"
   ]
  },
  {
   "cell_type": "code",
   "execution_count": 74,
   "metadata": {},
   "outputs": [],
   "source": [
    "# form a new messages list\n",
    "messages = [{\"role\": \"user\", \"content\": question}]\n"
   ]
  },
  {
   "cell_type": "code",
   "execution_count": 75,
   "metadata": {},
   "outputs": [
    {
     "name": "stdout",
     "output_type": "stream",
     "text": [
      "If you rearrange the letters \"CIFAIPC,\" you get \"PACIFIC,\" which is the name of an ocean.\n"
     ]
    }
   ],
   "source": [
    "# Ask it again\n",
    "\n",
    "response = openai.chat.completions.create(\n",
    "    model=\"gpt-4.1-mini\",\n",
    "    messages=messages\n",
    ")\n",
    "\n",
    "answer = response.choices[0].message.content\n",
    "print(answer)\n"
   ]
  },
  {
   "cell_type": "code",
   "execution_count": 76,
   "metadata": {},
   "outputs": [
    {
     "data": {
      "text/markdown": [
       "If you rearrange the letters \"CIFAIPC,\" you get \"PACIFIC,\" which is the name of an ocean."
      ],
      "text/plain": [
       "<IPython.core.display.Markdown object>"
      ]
     },
     "metadata": {},
     "output_type": "display_data"
    }
   ],
   "source": [
    "from IPython.display import Markdown, display\n",
    "\n",
    "display(Markdown(answer))\n",
    "\n"
   ]
  },
  {
   "cell_type": "markdown",
   "metadata": {},
   "source": [
    "# Congratulations!\n",
    "\n",
    "That was a small, simple step in the direction of Agentic AI, with your new environment!\n",
    "\n",
    "Next time things get more interesting..."
   ]
  },
  {
   "cell_type": "markdown",
   "metadata": {},
   "source": [
    "<table style=\"margin: 0; text-align: left; width:100%\">\n",
    "    <tr>\n",
    "        <td style=\"width: 150px; height: 150px; vertical-align: middle;\">\n",
    "            <img src=\"../assets/exercise.png\" width=\"150\" height=\"150\" style=\"display: block;\" />\n",
    "        </td>\n",
    "        <td>\n",
    "            <h2 style=\"color:#ff7800;\">Exercise</h2>\n",
    "            <span style=\"color:#ff7800;\">Now try this commercial application:<br/>\n",
    "            First ask the LLM to pick a business area that might be worth exploring for an Agentic AI opportunity.<br/>\n",
    "            Then ask the LLM to present a pain-point in that industry - something challenging that might be ripe for an Agentic solution.<br/>\n",
    "            Finally have 3 third LLM call propose the Agentic AI solution. <br/>\n",
    "            We will cover this at up-coming labs, so don't worry if you're unsure.. just give it a try!\n",
    "            </span>\n",
    "        </td>\n",
    "    </tr>\n",
    "</table>"
   ]
  },
  {
   "cell_type": "code",
   "execution_count": 77,
   "metadata": {},
   "outputs": [
    {
     "name": "stdout",
     "output_type": "stream",
     "text": [
      "One promising business area worth exploring for an Agentic AI opportunity is **personalized healthcare and wellness management**. \n",
      "\n",
      "### Opportunity Overview:\n",
      "The healthcare industry increasingly focuses on personalized treatment and preventative care, leveraging technology to optimize individual patient outcomes. An Agentic AI can play a crucial role in this space by acting as a personalized health advisor, utilizing data from various sources (wearable devices, medical history, genetic information, lifestyle choices) to provide tailored recommendations and interventions.\n",
      "\n",
      "### Key Features:\n",
      "1. **Data Integration**: The AI can aggregate data from wearable health monitors, fitness apps, medical records, and even genetic testing results to create a comprehensive health profile for each user.\n",
      "   \n",
      "2. **Predictive Analytics**: Using machine learning algorithms, the AI can predict potential health issues based on user data and historical patterns, supporting proactive health management.\n",
      "\n",
      "3. **Personalized Recommendations**: The AI could provide customized advice on diet, exercise, medications, and wellness routines that are tailored to the individual's needs, preferences, and health goals.\n",
      "\n",
      "4. **Behavioral Insights and Coaching**: The AI could engage users through interactive dialogue, enabling behavioral nudges and support to help them adopt healthier lifestyles while maintaining motivation.\n",
      "\n",
      "5. **Medication Management**: It could remind users to take medications, track adherence, and provide insights into any side effects or interactions based on real-time data inputs.\n",
      "\n",
      "### Market Potential:\n",
      "The global digital health market is rapidly growing, supported by advances in AI and a growing emphasis on personalized medicine. The integration of an Agentic AI into this space could address several critical challenges, including medication adherence, chronic disease management, and overall health maintenance.\n",
      "\n",
      "### Challenges to Consider:\n",
      "- **Data Privacy and Security**: Ensuring compliance with healthcare regulations (like HIPAA in the U.S.) while safeguarding user data.\n",
      "- **User Trust and Acceptance**: Building trust with users so they feel comfortable sharing personal health information with AI solutions.\n",
      "- **Integration with Existing Systems**: Collaborating with healthcare providers and insurers to integrate AI solutions seamlessly into established workflows.\n",
      "\n",
      "By positioning an Agentic AI in the personalized healthcare and wellness management sector, there is a significant opportunity to enhance individual health outcomes, streamline healthcare processes, and ultimately improve the quality of life for users.\n",
      "### Pain Point: Data Privacy and Security in Personalized Healthcare\n",
      "\n",
      "#### Overview of the Challenge:\n",
      "As personalized healthcare and wellness management increasingly rely on data aggregation from various sources (wearable devices, medical records, genetic information), the volume and sensitivity of the data being collected pose significant challenges related to privacy and security. Patients are often hesitant to share their personal health information due to fears surrounding data breaches, misuse of information, and lack of control over their data. This skepticism can inhibit the adoption of AI-driven personalized health solutions.\n",
      "\n",
      "#### Key Concerns:\n",
      "1. **Regulatory Compliance**: With strict regulations like HIPAA in the U.S. and GDPR in Europe governing personal health information, ensuring compliance during development and deployment can be complex and costly. Non-compliance can lead to severe penalties and loss of reputation.\n",
      "\n",
      "2. **Data Breach Risks**: The healthcare sector has been a target for cyberattacks, with data breaches leading to exposure of sensitive patient information. This increases the need for robust cybersecurity measures to protect user data from malicious actors.\n",
      "\n",
      "3. **Transparency and Control**: Users need clarity on how their data is being used, stored, and shared. A lack of transparency can erode trust, making users reluctant to engage fully with AI systems. \n",
      "\n",
      "4. **Interoperability Issues**: Systems must be designed to securely share data between various healthcare platforms and devices, which can be a challenge due to varying standards and potential vulnerabilities.\n",
      "\n",
      "#### Potential Agentic AI Solutions:\n",
      "1. **Enhanced Security Protocols**: Develop an AI-based solution that employs advanced encryption, tokenization, and anonymization techniques to secure data both in transit and at rest. This can help minimize the risk of breaches and safeguard user data.\n",
      "\n",
      "2. **User Control Dashboards**: Create intuitive interfaces where users can easily manage their data permissions, track data usage, and understand how their information contributes to personalized healthcare outcomes.\n",
      "\n",
      "3. **Transparent Algorithms**: Implement explainable AI methodologies, where users can comprehend how their data is analyzed and the rationale behind personalized recommendations. Providing users with insights into the AI's decision-making process can build trust.\n",
      "\n",
      "4. **Incident Response System**: Develop a robust incident response protocol powered by AI to quickly detect, respond to, and recover from data breaches, reinforcing users’ confidence in data security.\n",
      "\n",
      "5. **Continuous Compliance Monitoring**: Implement an AI solution that continuously audits practices within the system to ensure regulatory compliance is maintained, alerting stakeholders to any potential risks or deviations regarding data protection laws.\n",
      "\n",
      "#### Conclusion:\n",
      "Addressing the data privacy and security pain point in personalized healthcare and wellness management presents a ripe opportunity for an Agentic AI solution. By building a platform that prioritizes user trust, ensures regulatory compliance, and implements advanced security measures, the potential to enhance user engagement and improve health outcomes becomes significantly stronger. This not only aligns with user needs but also differentiates the AI offering in a rapidly evolving healthcare market.\n",
      "### Proposed Agentic AI Solution for Data Privacy and Security in Personalized Healthcare\n",
      "\n",
      "#### Overview\n",
      "The Agentic AI solution seeks to create a trust-centric, secure, and compliant environment for handling sensitive health data in personalized healthcare and wellness management. By leveraging advanced AI technologies, user-centric design, and robust security measures, we aim to alleviate concerns around data privacy and empower patients to feel confident in sharing their health information.\n",
      "\n",
      "### Key Features of the Agentic AI Solution:\n",
      "\n",
      "#### 1. **Enhanced Security Protocols**\n",
      "   - **AI-Driven Encryption**: Utilize advanced algorithms to encrypt users' data at multiple levels (e.g., end-to-end encryption). AI can dynamically adjust security measures based on threat levels detected in the environment.\n",
      "   - **Anonymization and Tokenization**: Employ AI techniques to anonymize sensitive data while retaining its utility for analysis. Tokenization can replace sensitive data elements with non-sensitive equivalents, protecting users’ identities during data processing and sharing.\n",
      "   - **Real-time Anomaly Detection**: Implement machine learning algorithms to continuously monitor network traffic and user access patterns, identifying anomalies that may indicate potential breaches.\n",
      "\n",
      "#### 2. **User Control Dashboards**\n",
      "   - **Data Permission Management**: Develop a comprehensive dashboard that allows users to easily modify their data sharing preferences and permissions. They can select which data points they are comfortable sharing and with whom (e.g., healthcare providers, researchers).\n",
      "   - **Usage Tracking**: Provide tools for users to see how their data is used within the system, including updates on which datasets are being accessed and how they contribute to their personalized health recommendations.\n",
      "   - **Opt-In/Opt-Out Features**: Enable users to choose whether to participate in specific data-sharing programs, fostering a sense of ownership over their health information.\n",
      "\n",
      "#### 3. **Transparent Algorithms**\n",
      "   - **Explainable AI Components**: Implement explainable AI frameworks that provide users with understandable insights into how their data drives AI recommendations. This could involve visualizing the factors influencing a recommendation or treatment plan in user-friendly terms.\n",
      "   - **Feedback Mechanisms**: Incorporate user feedback loops where patients can express their satisfaction with AI recommendations, allowing the AI to refine its models and lending credibility to its processes. \n",
      "\n",
      "#### 4. **Incident Response System**\n",
      "   - **AI-Powered Threat Intelligence**: Develop an automated system that utilizes AI to analyze potential threats and initiate pre-defined incident response protocols, mitigating risks quickly before they escalate.\n",
      "   - **Automated Notifications**: Upon detection of a breach or suspicious activity, the system should automatically notify affected users, providing them with details about the breach and steps being taken to address it, thus reinforcing transparency.\n",
      "\n",
      "#### 5. **Continuous Compliance Monitoring**\n",
      "   - **AI Compliance Auditing**: Establish systems that utilize AI to continuously monitor processes and data handling practices against regulatory standards (e.g., HIPAA, GDPR). The AI can alert administrators to compliance issues in real-time.\n",
      "   - **Adaptive Compliance Mechanisms**: Implement adaptive protocols that can update security measures in response to changes in regulations, ensuring ongoing adherence without significant downtime or resource allocation.\n",
      "\n",
      "### Conclusion\n",
      "The proposed Agentic AI solution aims to bridge the gap between data privacy concerns and the need for personalized healthcare by emphasizing security, transparency, and user empowerment. By harnessing the power of AI, this solution not only addresses key concerns surrounding data security and privacy but also enhances the overall user experience. By creating a trusted ecosystem for health data, patients can feel more at ease sharing their information, ultimately fostering broader adoption of AI-driven healthcare solutions and improving health outcomes for all. This advanced model aligns with emerging trends in healthcare technology and positions it advantageously in the competitive landscape.\n"
     ]
    },
    {
     "data": {
      "text/markdown": [
       "### Proposed Agentic AI Solution for Data Privacy and Security in Personalized Healthcare\n",
       "\n",
       "#### Overview\n",
       "The Agentic AI solution seeks to create a trust-centric, secure, and compliant environment for handling sensitive health data in personalized healthcare and wellness management. By leveraging advanced AI technologies, user-centric design, and robust security measures, we aim to alleviate concerns around data privacy and empower patients to feel confident in sharing their health information.\n",
       "\n",
       "### Key Features of the Agentic AI Solution:\n",
       "\n",
       "#### 1. **Enhanced Security Protocols**\n",
       "   - **AI-Driven Encryption**: Utilize advanced algorithms to encrypt users' data at multiple levels (e.g., end-to-end encryption). AI can dynamically adjust security measures based on threat levels detected in the environment.\n",
       "   - **Anonymization and Tokenization**: Employ AI techniques to anonymize sensitive data while retaining its utility for analysis. Tokenization can replace sensitive data elements with non-sensitive equivalents, protecting users’ identities during data processing and sharing.\n",
       "   - **Real-time Anomaly Detection**: Implement machine learning algorithms to continuously monitor network traffic and user access patterns, identifying anomalies that may indicate potential breaches.\n",
       "\n",
       "#### 2. **User Control Dashboards**\n",
       "   - **Data Permission Management**: Develop a comprehensive dashboard that allows users to easily modify their data sharing preferences and permissions. They can select which data points they are comfortable sharing and with whom (e.g., healthcare providers, researchers).\n",
       "   - **Usage Tracking**: Provide tools for users to see how their data is used within the system, including updates on which datasets are being accessed and how they contribute to their personalized health recommendations.\n",
       "   - **Opt-In/Opt-Out Features**: Enable users to choose whether to participate in specific data-sharing programs, fostering a sense of ownership over their health information.\n",
       "\n",
       "#### 3. **Transparent Algorithms**\n",
       "   - **Explainable AI Components**: Implement explainable AI frameworks that provide users with understandable insights into how their data drives AI recommendations. This could involve visualizing the factors influencing a recommendation or treatment plan in user-friendly terms.\n",
       "   - **Feedback Mechanisms**: Incorporate user feedback loops where patients can express their satisfaction with AI recommendations, allowing the AI to refine its models and lending credibility to its processes. \n",
       "\n",
       "#### 4. **Incident Response System**\n",
       "   - **AI-Powered Threat Intelligence**: Develop an automated system that utilizes AI to analyze potential threats and initiate pre-defined incident response protocols, mitigating risks quickly before they escalate.\n",
       "   - **Automated Notifications**: Upon detection of a breach or suspicious activity, the system should automatically notify affected users, providing them with details about the breach and steps being taken to address it, thus reinforcing transparency.\n",
       "\n",
       "#### 5. **Continuous Compliance Monitoring**\n",
       "   - **AI Compliance Auditing**: Establish systems that utilize AI to continuously monitor processes and data handling practices against regulatory standards (e.g., HIPAA, GDPR). The AI can alert administrators to compliance issues in real-time.\n",
       "   - **Adaptive Compliance Mechanisms**: Implement adaptive protocols that can update security measures in response to changes in regulations, ensuring ongoing adherence without significant downtime or resource allocation.\n",
       "\n",
       "### Conclusion\n",
       "The proposed Agentic AI solution aims to bridge the gap between data privacy concerns and the need for personalized healthcare by emphasizing security, transparency, and user empowerment. By harnessing the power of AI, this solution not only addresses key concerns surrounding data security and privacy but also enhances the overall user experience. By creating a trusted ecosystem for health data, patients can feel more at ease sharing their information, ultimately fostering broader adoption of AI-driven healthcare solutions and improving health outcomes for all. This advanced model aligns with emerging trends in healthcare technology and positions it advantageously in the competitive landscape."
      ],
      "text/plain": [
       "<IPython.core.display.Markdown object>"
      ]
     },
     "metadata": {},
     "output_type": "display_data"
    }
   ],
   "source": [
    "# First create the messages:\n",
    "\n",
    "\n",
    "question = \"Pick a business area that might be worth exploring for an Agentic AI opportunity\"\n",
    "messages = [{\"role\": \"user\", \"content\": question}]\n",
    "\n",
    "\n",
    "\n",
    "# Then make the first call:\n",
    "\n",
    "response = openai.chat.completions.create(\n",
    "    model=\"gpt-4o-mini\",\n",
    "    messages=messages\n",
    ")\n",
    "\n",
    "answer = response.choices[0].message.content\n",
    "print(answer)\n",
    "# Use the answer from the first LLM call to specify the industry in the next question\n",
    "additional_question = f\"Please present a pain-point in the {answer} industry - something challenging that might be ripe for an Agentic solution\"\n",
    "messages = [{\"role\": \"user\", \"content\": additional_question}]\n",
    "\n",
    "\n",
    "\n",
    "response = openai.chat.completions.create(\n",
    "    model=\"gpt-4o-mini\",\n",
    "    messages=messages\n",
    ")\n",
    "\n",
    "additional_answer = response.choices[0].message.content\n",
    "print(additional_answer)    \n",
    "\n",
    "proposed_solution = f\"Please propose the Agentic AI solution for the pain-point for {additional_answer}\"\n",
    "messages = [{\"role\": \"user\", \"content\": proposed_solution}]\n",
    "\n",
    "response = openai.chat.completions.create(\n",
    "    model=\"gpt-4o-mini\",\n",
    "    messages=messages\n",
    ")\n",
    "\n",
    "solution = response.choices[0].message.content\n",
    "print(solution)\n",
    "\n",
    " \n",
    "from IPython.display import Markdown, display\n",
    "\n",
    "display(Markdown(solution))\n",
    "# Then read the business idea:\n",
    "\n",
    "\n",
    "\n",
    "# And repeat! In the next message, include the business idea within the message"
   ]
  },
  {
   "cell_type": "markdown",
   "metadata": {},
   "source": []
  }
 ],
 "metadata": {
  "kernelspec": {
   "display_name": ".venv",
   "language": "python",
   "name": "python3"
  },
  "language_info": {
   "codemirror_mode": {
    "name": "ipython",
    "version": 3
   },
   "file_extension": ".py",
   "mimetype": "text/x-python",
   "name": "python",
   "nbconvert_exporter": "python",
   "pygments_lexer": "ipython3",
   "version": "3.12.7"
  }
 },
 "nbformat": 4,
 "nbformat_minor": 2
}
